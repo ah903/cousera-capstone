{
 "cells": [
  {
   "cell_type": "code",
   "execution_count": 4,
   "metadata": {},
   "outputs": [],
   "source": [
    "import os\n",
    "import requests\n",
    "import pandas as pd\n",
    "\n",
    "from dotenv import load_dotenv\n",
    "from pandas.io.json import json_normalize"
   ]
  },
  {
   "cell_type": "code",
   "execution_count": 17,
   "metadata": {},
   "outputs": [],
   "source": [
    "load_dotenv(\"config.env\")\n",
    "FS_API_VERSION = os.environ.get(\"VERSION\")\n",
    "FS_API_CLNT_ID = os.environ.get(\"CLIENT_ID\")\n",
    "FS_API_CLNT_ST = os.environ.get(\"CLIENT_SECRET\")\n",
    "FS_API_REQ_LMT = 30\n",
    "\n",
    "FS_API_TOKEN = \"?client_id={}&client_secret={}&v={}\".format(FS_API_CLNT_ID,FS_API_CLNT_ST,FS_API_VERSION)\n",
    "FS_API_VENUE = \"https://api.foursquare.com/v2/venues/search\"\n",
    "FS_API_USERS = \"https://api.foursquare.com/v2/users\"\n",
    "FS_API_TIPS = \"https://api.foursquare.com/v2/tips\"\n"
   ]
  },
  {
   "cell_type": "code",
   "execution_count": 52,
   "metadata": {},
   "outputs": [
    {
     "data": {
      "text/plain": [
       "'4d4b7105d754a06374d81259'"
      ]
     },
     "execution_count": 52,
     "metadata": {},
     "output_type": "execute_result"
    }
   ],
   "source": [
    "# Set latitude and longitude of Sydney\n",
    "sydney_latlng = \"-33.865143,151.209900\"\n",
    "sydney_latlng = \"-33.795763, 151.288116\"\n",
    "\n",
    "# Foursquare category identifiers\n",
    "# Obtained from https://developer.foursquare.com/docs/resources/categories\n",
    "foursquare_categories={\n",
    "    \"Beach\":\"4bf58dd8d48988d1e2941735\",\n",
    "    \"Surfing\":\"4bf58dd8d48988d1e3941735\",\n",
    "    \"Parks\":\"4bf58dd8d48988d163941735\",\n",
    "    \"Libraries\": \"4bf58dd8d48988d12f941735\",\n",
    "    \"Pools\": \"4bf58dd8d48988d15e941735\",\n",
    "    \"Cinema\": \"4bf58dd8d48988d180941735\",\n",
    "    \"Zoo\": \"4bf58dd8d48988d17b941735\",\n",
    "    \"Museum\":\"4bf58dd8d48988d181941735\",\n",
    "    \"Food\":\"4d4b7105d754a06374d81259\",\n",
    "    \"Bathing\":\"52e81612bcbc57f1066b7a28\"\n",
    "}\n",
    "\n",
    "foursquare_categories[\"Food\"]"
   ]
  },
  {
   "cell_type": "code",
   "execution_count": 63,
   "metadata": {},
   "outputs": [
    {
     "name": "stdout",
     "output_type": "stream",
     "text": [
      "Manly Beach\n",
      "Pacific Beach\n",
      "Manly beach volleyball courts\n",
      "Shelly Beach\n",
      "Manly Surf Hire\n",
      "North Steyne Beach\n",
      "Manly Surf School\n",
      "Manly Life Saving Club\n",
      "Manly Surf Lifesaving Club\n",
      "Queenscliff Beach\n",
      "Collins Flat\n",
      "South Steyne Beach\n",
      "North Steyne SLSC\n",
      "East Esplanade\n",
      "Queenscliff Grassy Knoll\n",
      "Manly SLC\n",
      "Delwood Beach\n",
      "Guy Leech Paddle Fitness\n",
      "Bouwer Rocks\n"
     ]
    }
   ],
   "source": [
    "\n",
    "url = \"{}{}&ll={}&categoryId={}&radius={}&limit={}\".format(FS_API_VENUE,FS_API_TOKEN,sydney_latlng,foursquare_categories[\"Beach\"],1000,100)\n",
    "url\n",
    "results = requests.get(url).json()\n",
    "venues = results['response']['venues']\n",
    "for item in venues :\n",
    "    print(item[\"name\"])"
   ]
  },
  {
   "cell_type": "code",
   "execution_count": null,
   "metadata": {},
   "outputs": [],
   "source": []
  }
 ],
 "metadata": {
  "kernelspec": {
   "display_name": "Python 3",
   "language": "python",
   "name": "python3"
  },
  "language_info": {
   "codemirror_mode": {
    "name": "ipython",
    "version": 3
   },
   "file_extension": ".py",
   "mimetype": "text/x-python",
   "name": "python",
   "nbconvert_exporter": "python",
   "pygments_lexer": "ipython3",
   "version": "3.7.4"
  }
 },
 "nbformat": 4,
 "nbformat_minor": 4
}
